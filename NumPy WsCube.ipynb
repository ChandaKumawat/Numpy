{
 "cells": [
  {
   "cell_type": "markdown",
   "id": "312a0d03",
   "metadata": {},
   "source": [
    "# Numpy in Python"
   ]
  },
  {
   "cell_type": "code",
   "execution_count": 1,
   "id": "3709fee9",
   "metadata": {},
   "outputs": [
    {
     "name": "stdout",
     "output_type": "stream",
     "text": [
      "[1 2 3 4]\n",
      "<class 'numpy.ndarray'>\n"
     ]
    }
   ],
   "source": [
    "import numpy as np\n",
    "\n",
    "x = np.array([1,2,3,4])\n",
    "print(x)\n",
    "\n",
    "print(type(x))"
   ]
  },
  {
   "cell_type": "code",
   "execution_count": 2,
   "id": "49a61cc0",
   "metadata": {},
   "outputs": [
    {
     "name": "stdout",
     "output_type": "stream",
     "text": [
      "[4, 8, 7]\n",
      "<class 'list'>\n"
     ]
    }
   ],
   "source": [
    "y = [4,8,7]\n",
    "print(y)\n",
    "\n",
    "print(type(y))"
   ]
  },
  {
   "cell_type": "markdown",
   "id": "75532974",
   "metadata": {},
   "source": [
    "# Speed "
   ]
  },
  {
   "cell_type": "markdown",
   "id": "1f5a34c4",
   "metadata": {},
   "source": [
    "***List***"
   ]
  },
  {
   "cell_type": "code",
   "execution_count": 3,
   "id": "9a735197",
   "metadata": {},
   "outputs": [
    {
     "name": "stdout",
     "output_type": "stream",
     "text": [
      "661 ns ± 13.2 ns per loop (mean ± std. dev. of 7 runs, 1,000,000 loops each)\n"
     ]
    }
   ],
   "source": [
    "%timeit [j**4 for j in range(1,9)]"
   ]
  },
  {
   "cell_type": "markdown",
   "id": "bdc1547b",
   "metadata": {},
   "source": [
    "***Array***"
   ]
  },
  {
   "cell_type": "code",
   "execution_count": 4,
   "id": "d806628a",
   "metadata": {},
   "outputs": [
    {
     "name": "stdout",
     "output_type": "stream",
     "text": [
      "4.89 µs ± 565 ns per loop (mean ± std. dev. of 7 runs, 100,000 loops each)\n"
     ]
    }
   ],
   "source": [
    "import numpy as np\n",
    "\n",
    "%timeit np.arange(1,9)**4"
   ]
  },
  {
   "cell_type": "markdown",
   "id": "19593ffc",
   "metadata": {},
   "source": [
    "# Array"
   ]
  },
  {
   "cell_type": "code",
   "execution_count": 5,
   "id": "66ba3277",
   "metadata": {},
   "outputs": [
    {
     "name": "stdout",
     "output_type": "stream",
     "text": [
      "[1 2 3 4]\n"
     ]
    }
   ],
   "source": [
    "import numpy as np\n",
    "\n",
    "x = [1,2,3,4]\n",
    "\n",
    "y = np.array(x)\n",
    "\n",
    "print(y)"
   ]
  },
  {
   "cell_type": "code",
   "execution_count": 6,
   "id": "b98eaa36",
   "metadata": {},
   "outputs": [
    {
     "name": "stdout",
     "output_type": "stream",
     "text": [
      "[1 2 3 4 5]\n",
      "<class 'numpy.ndarray'>\n",
      "1\n"
     ]
    }
   ],
   "source": [
    "import numpy as np\n",
    "\n",
    "y = np.array([1,2,3,4,5])\n",
    "\n",
    "print(y)\n",
    "print(type(y))\n",
    "print(y.ndim)"
   ]
  },
  {
   "cell_type": "code",
   "execution_count": 7,
   "id": "56756aff",
   "metadata": {},
   "outputs": [
    {
     "name": "stdout",
     "output_type": "stream",
     "text": [
      "enter :1\n",
      "enter :2\n",
      "enter :2\n",
      "enter :3\n",
      "['1' '2' '2' '3']\n"
     ]
    }
   ],
   "source": [
    "l = []\n",
    "\n",
    "for i in range(1,5):\n",
    "    int_1 = input(\"enter :\")\n",
    "    l.append(int_1)\n",
    "    \n",
    "print(np.array(l))"
   ]
  },
  {
   "cell_type": "code",
   "execution_count": 8,
   "id": "26abf6d2",
   "metadata": {},
   "outputs": [
    {
     "name": "stdout",
     "output_type": "stream",
     "text": [
      "[[1 2 3]\n",
      " [4 5 6]]\n",
      "2\n"
     ]
    }
   ],
   "source": [
    "D2 = np.array([[1,2,3],[4,5,6]])\n",
    "print(D2)\n",
    "print(D2.ndim)"
   ]
  },
  {
   "cell_type": "code",
   "execution_count": 9,
   "id": "4dd04029",
   "metadata": {},
   "outputs": [
    {
     "name": "stdout",
     "output_type": "stream",
     "text": [
      "[[[1 2 3]\n",
      "  [4 5 6]\n",
      "  [7 8 9]]]\n",
      "3\n"
     ]
    }
   ],
   "source": [
    "D3 = np.array([[[1,2,3],[4,5,6],[7,8,9]]])\n",
    "\n",
    "print(D3)\n",
    "print(D3.ndim)"
   ]
  },
  {
   "cell_type": "code",
   "execution_count": 10,
   "id": "6ad35962",
   "metadata": {},
   "outputs": [
    {
     "name": "stdout",
     "output_type": "stream",
     "text": [
      "[[[[[[[[[[1 2 3 4]]]]]]]]]]\n",
      "10\n"
     ]
    }
   ],
   "source": [
    "arn = np.array([1,2,3,4],ndmin = 10)\n",
    "print(arn)\n",
    "\n",
    "print(arn.ndim)"
   ]
  },
  {
   "cell_type": "markdown",
   "id": "c203dfcb",
   "metadata": {},
   "source": [
    "# Zeros"
   ]
  },
  {
   "cell_type": "code",
   "execution_count": 11,
   "id": "f289b3d8",
   "metadata": {},
   "outputs": [
    {
     "name": "stdout",
     "output_type": "stream",
     "text": [
      "[0. 0. 0. 0.]\n",
      "\n",
      "[[0. 0. 0. 0.]\n",
      " [0. 0. 0. 0.]\n",
      " [0. 0. 0. 0.]]\n"
     ]
    }
   ],
   "source": [
    "import numpy as np\n",
    "\n",
    "ar_zero = np.zeros(4)\n",
    "ar_zero1 = np.zeros((3,4))\n",
    "\n",
    "print(ar_zero)\n",
    "print()\n",
    "print(ar_zero1)"
   ]
  },
  {
   "cell_type": "markdown",
   "id": "bf0e972a",
   "metadata": {},
   "source": [
    "# Ones"
   ]
  },
  {
   "cell_type": "code",
   "execution_count": 12,
   "id": "b89a9792",
   "metadata": {},
   "outputs": [
    {
     "name": "stdout",
     "output_type": "stream",
     "text": [
      "[1. 1. 1. 1.]\n",
      "\n",
      "[[1. 1. 1. 1. 1.]\n",
      " [1. 1. 1. 1. 1.]\n",
      " [1. 1. 1. 1. 1.]\n",
      " [1. 1. 1. 1. 1.]\n",
      " [1. 1. 1. 1. 1.]]\n"
     ]
    }
   ],
   "source": [
    "import numpy as np\n",
    "\n",
    "ar_one = np.ones(4)\n",
    "ar_one1 = np.ones((5,5))\n",
    "\n",
    "print(ar_one)\n",
    "print()\n",
    "print(ar_one1)"
   ]
  },
  {
   "cell_type": "markdown",
   "id": "f3dcd964",
   "metadata": {},
   "source": [
    "# Empty"
   ]
  },
  {
   "cell_type": "code",
   "execution_count": 13,
   "id": "a487e6a5",
   "metadata": {},
   "outputs": [
    {
     "name": "stdout",
     "output_type": "stream",
     "text": [
      "[1. 1. 1. 1.]\n"
     ]
    }
   ],
   "source": [
    "ar_em = np.empty(4)\n",
    "\n",
    "print(ar_em)"
   ]
  },
  {
   "cell_type": "markdown",
   "id": "6e4615cb",
   "metadata": {},
   "source": [
    "# Range"
   ]
  },
  {
   "cell_type": "code",
   "execution_count": 14,
   "id": "3aac3300",
   "metadata": {},
   "outputs": [
    {
     "name": "stdout",
     "output_type": "stream",
     "text": [
      "[0 1 2 3]\n"
     ]
    }
   ],
   "source": [
    "ar_rn = np.arange(4)\n",
    "\n",
    "print(ar_rn)"
   ]
  },
  {
   "cell_type": "markdown",
   "id": "a59dc835",
   "metadata": {},
   "source": [
    "# Diagonal"
   ]
  },
  {
   "cell_type": "code",
   "execution_count": 15,
   "id": "ca79a7e5",
   "metadata": {},
   "outputs": [
    {
     "name": "stdout",
     "output_type": "stream",
     "text": [
      "[[1. 0. 0.]\n",
      " [0. 1. 0.]\n",
      " [0. 0. 1.]]\n"
     ]
    }
   ],
   "source": [
    "ar_dia = np.eye(3)\n",
    "\n",
    "print(ar_dia)"
   ]
  },
  {
   "cell_type": "code",
   "execution_count": 16,
   "id": "d13a33d7",
   "metadata": {},
   "outputs": [
    {
     "name": "stdout",
     "output_type": "stream",
     "text": [
      "[[1. 0. 0.]\n",
      " [0. 1. 0.]\n",
      " [0. 0. 1.]]\n"
     ]
    }
   ],
   "source": [
    "ar_dia = np.eye(3,3)\n",
    "\n",
    "print(ar_dia)"
   ]
  },
  {
   "cell_type": "markdown",
   "id": "5d170cd8",
   "metadata": {},
   "source": [
    "# linspace"
   ]
  },
  {
   "cell_type": "code",
   "execution_count": 17,
   "id": "c441a911",
   "metadata": {},
   "outputs": [
    {
     "name": "stdout",
     "output_type": "stream",
     "text": [
      "[ 1.    3.25  5.5   7.75 10.  ]\n"
     ]
    }
   ],
   "source": [
    "ar_lin = np.linspace(1,10,num = 5)\n",
    "\n",
    "print(ar_lin)"
   ]
  },
  {
   "cell_type": "code",
   "execution_count": 18,
   "id": "469e555f",
   "metadata": {},
   "outputs": [
    {
     "name": "stdout",
     "output_type": "stream",
     "text": [
      "[ 0.   2.5  5.   7.5 10. ]\n"
     ]
    }
   ],
   "source": [
    "ar_lin = np.linspace(0,10,num = 5)\n",
    "\n",
    "print(ar_lin)"
   ]
  },
  {
   "cell_type": "markdown",
   "id": "c4ac8e1d",
   "metadata": {},
   "source": [
    "# Random Numbers"
   ]
  },
  {
   "cell_type": "markdown",
   "id": "fd0a552f",
   "metadata": {},
   "source": [
    "1. rand()\n",
    "2. randn()\n",
    "3. ranf()\n",
    "4. randint()"
   ]
  },
  {
   "cell_type": "markdown",
   "id": "2e835ae1",
   "metadata": {},
   "source": [
    "***1. rand()***"
   ]
  },
  {
   "cell_type": "code",
   "execution_count": 19,
   "id": "6b5dc11f",
   "metadata": {},
   "outputs": [
    {
     "name": "stdout",
     "output_type": "stream",
     "text": [
      "[0.58801397 0.10965773 0.28381576 0.64194669]\n"
     ]
    }
   ],
   "source": [
    "import numpy as np #all number b/w 0&1\n",
    "\n",
    "var = np.random.rand(4)\n",
    "\n",
    "print(var)"
   ]
  },
  {
   "cell_type": "code",
   "execution_count": 20,
   "id": "39684826",
   "metadata": {},
   "outputs": [
    {
     "name": "stdout",
     "output_type": "stream",
     "text": [
      "[[0.45901869 0.0692161  0.44115707 0.01644511 0.58622091]\n",
      " [0.40349668 0.49177967 0.58419787 0.5763101  0.8831752 ]]\n"
     ]
    }
   ],
   "source": [
    "var = np.random.rand(2,5)\n",
    "\n",
    "print(var)"
   ]
  },
  {
   "cell_type": "markdown",
   "id": "3aa08ddf",
   "metadata": {},
   "source": [
    "***2. randn()***"
   ]
  },
  {
   "cell_type": "code",
   "execution_count": 21,
   "id": "fdd525f2",
   "metadata": {},
   "outputs": [
    {
     "name": "stdout",
     "output_type": "stream",
     "text": [
      "[ 0.04794806  0.67953149 -0.73776621 -1.58085503]\n"
     ]
    }
   ],
   "source": [
    "import numpy as np # +,- all numbers are allow\n",
    "\n",
    "var = np.random.randn(4)\n",
    "\n",
    "print(var)"
   ]
  },
  {
   "cell_type": "code",
   "execution_count": 22,
   "id": "91068187",
   "metadata": {},
   "outputs": [
    {
     "name": "stdout",
     "output_type": "stream",
     "text": [
      "[[-0.2218276  -1.15534446 -0.09190857  2.43975921 -0.84125445]\n",
      " [-0.33963403  0.79739767 -1.68633288  0.33741604 -1.97540283]]\n"
     ]
    }
   ],
   "source": [
    "var = np.random.randn(2,5)\n",
    "\n",
    "print(var)"
   ]
  },
  {
   "cell_type": "markdown",
   "id": "542e3034",
   "metadata": {},
   "source": [
    "***3. ranf()***"
   ]
  },
  {
   "cell_type": "code",
   "execution_count": 23,
   "id": "919cd88c",
   "metadata": {},
   "outputs": [
    {
     "name": "stdout",
     "output_type": "stream",
     "text": [
      "[0.9384029  0.81494771 0.55578847 0.65545669]\n"
     ]
    }
   ],
   "source": [
    "import numpy as np # give the value between 0.0 & 1.0\n",
    "\n",
    "var = np.random.ranf(4)\n",
    "\n",
    "print(var)"
   ]
  },
  {
   "cell_type": "markdown",
   "id": "94d705ed",
   "metadata": {},
   "source": [
    "***4. randint()***"
   ]
  },
  {
   "cell_type": "code",
   "execution_count": 24,
   "id": "f20a579d",
   "metadata": {},
   "outputs": [
    {
     "name": "stdout",
     "output_type": "stream",
     "text": [
      "[ 8 18 12 13 19]\n"
     ]
    }
   ],
   "source": [
    "import numpy as np \n",
    "\n",
    "#var = np.random.randint(min,max,total_values)\n",
    "\n",
    "var = np.random.randint(5,20,5)\n",
    "\n",
    "print(var)"
   ]
  },
  {
   "cell_type": "markdown",
   "id": "09396252",
   "metadata": {},
   "source": [
    "# Data Type in NumPy Array"
   ]
  },
  {
   "cell_type": "markdown",
   "id": "d5a9cced",
   "metadata": {},
   "source": [
    "***1. int()***"
   ]
  },
  {
   "cell_type": "code",
   "execution_count": 25,
   "id": "cdd406a0",
   "metadata": {},
   "outputs": [
    {
     "name": "stdout",
     "output_type": "stream",
     "text": [
      "Data Type :  int32\n"
     ]
    }
   ],
   "source": [
    "import numpy as np\n",
    "\n",
    "var = np.array([1,2,3,4])\n",
    "\n",
    "print(\"Data Type : \",var.dtype )"
   ]
  },
  {
   "cell_type": "markdown",
   "id": "04f35cb8",
   "metadata": {},
   "source": [
    "***2. float()***"
   ]
  },
  {
   "cell_type": "code",
   "execution_count": 26,
   "id": "edb9ae22",
   "metadata": {},
   "outputs": [
    {
     "name": "stdout",
     "output_type": "stream",
     "text": [
      "Data Type :  float64\n"
     ]
    }
   ],
   "source": [
    "import numpy as np\n",
    "\n",
    "var = np.array([1.2,2.0,3.5,4.8])\n",
    "\n",
    "print(\"Data Type : \",var.dtype )"
   ]
  },
  {
   "cell_type": "markdown",
   "id": "fd148ea3",
   "metadata": {},
   "source": [
    "***3. string()***"
   ]
  },
  {
   "cell_type": "code",
   "execution_count": 27,
   "id": "7409ba99",
   "metadata": {},
   "outputs": [
    {
     "name": "stdout",
     "output_type": "stream",
     "text": [
      "Data Type :  <U6\n"
     ]
    }
   ],
   "source": [
    "var = np.array([\"chanda\",\"gudiya\",\"yashu\"])\n",
    "\n",
    "print(\"Data Type : \",var.dtype)"
   ]
  },
  {
   "cell_type": "code",
   "execution_count": 28,
   "id": "960c37ff",
   "metadata": {},
   "outputs": [
    {
     "name": "stdout",
     "output_type": "stream",
     "text": [
      "['C' 'H' 'A' '1' '2' '3']\n",
      "Data Type :  <U11\n"
     ]
    }
   ],
   "source": [
    "var = np.array([\"C\",\"H\",\"A\",1,2,3])\n",
    "\n",
    "print(var)\n",
    "\n",
    "print(\"Data Type : \",var.dtype)"
   ]
  },
  {
   "cell_type": "code",
   "execution_count": 29,
   "id": "fa08436e",
   "metadata": {},
   "outputs": [
    {
     "name": "stdout",
     "output_type": "stream",
     "text": [
      "Data Type :  int8\n",
      "\n",
      "[1 2 3 4]\n"
     ]
    }
   ],
   "source": [
    "x = np.array([1,2,3,4],dtype = np.int8)\n",
    "\n",
    "print(\"Data Type : \",x.dtype)\n",
    "print()\n",
    "print(x)"
   ]
  },
  {
   "cell_type": "code",
   "execution_count": 30,
   "id": "e7afec67",
   "metadata": {},
   "outputs": [
    {
     "name": "stdout",
     "output_type": "stream",
     "text": [
      "Data Type :  float32\n",
      "\n",
      "[1. 2. 3. 4.]\n"
     ]
    }
   ],
   "source": [
    "x = np.array([1,2,3,4],dtype = \"f\")\n",
    "\n",
    "print(\"Data Type : \",x.dtype)\n",
    "print()\n",
    "print(x)"
   ]
  },
  {
   "cell_type": "code",
   "execution_count": 31,
   "id": "b11ffb7b",
   "metadata": {},
   "outputs": [
    {
     "name": "stdout",
     "output_type": "stream",
     "text": [
      "Data Type :  int32\n",
      "Data Type :  float32\n",
      "\n",
      "[1 2 3 4]\n",
      "[1. 2. 3. 4.]\n"
     ]
    }
   ],
   "source": [
    "x = np.array([1,2,3,4])\n",
    "\n",
    "new = np.float32(x)\n",
    "\n",
    "print(\"Data Type : \",x.dtype)\n",
    "print(\"Data Type : \",new.dtype)\n",
    "print()\n",
    "print(x)\n",
    "print(new)"
   ]
  },
  {
   "cell_type": "markdown",
   "id": "f6585f1a",
   "metadata": {},
   "source": [
    "# Arithmetic Operation"
   ]
  },
  {
   "cell_type": "markdown",
   "id": "5637ad57",
   "metadata": {},
   "source": [
    "1. add()\n",
    "2. subtract()\n",
    "3. multiply()\n",
    "4. divide()\n",
    "5. mod()\n",
    "6. power()\n",
    "7. reciprocal()"
   ]
  },
  {
   "cell_type": "markdown",
   "id": "4b8829c9",
   "metadata": {},
   "source": [
    "***1. add()***"
   ]
  },
  {
   "cell_type": "code",
   "execution_count": 32,
   "id": "3390696d",
   "metadata": {},
   "outputs": [
    {
     "name": "stdout",
     "output_type": "stream",
     "text": [
      "[4 5 6 7]\n"
     ]
    }
   ],
   "source": [
    "import numpy as np\n",
    "\n",
    "var = np.array([1,2,3,4])\n",
    "\n",
    "varadd = var + 3\n",
    "\n",
    "print(varadd)"
   ]
  },
  {
   "cell_type": "code",
   "execution_count": 33,
   "id": "7add0a37",
   "metadata": {},
   "outputs": [
    {
     "name": "stdout",
     "output_type": "stream",
     "text": [
      "[2 4 6 8]\n"
     ]
    }
   ],
   "source": [
    "var1 = np.array([1,2,3,4])\n",
    "var2 = np.array([1,2,3,4])\n",
    "\n",
    "varadd = var1 + var2\n",
    "\n",
    "print(varadd)"
   ]
  },
  {
   "cell_type": "code",
   "execution_count": 34,
   "id": "a7a171a7",
   "metadata": {},
   "outputs": [
    {
     "name": "stdout",
     "output_type": "stream",
     "text": [
      "[2 4 6 8]\n"
     ]
    }
   ],
   "source": [
    "var1 = np.array([1,2,3,4])\n",
    "var2 = np.array([1,2,3,4])\n",
    "\n",
    "varadd = np.add(var1,var2)\n",
    "\n",
    "print(varadd)"
   ]
  },
  {
   "cell_type": "markdown",
   "id": "08372286",
   "metadata": {},
   "source": [
    "***2. subtract()***"
   ]
  },
  {
   "cell_type": "code",
   "execution_count": 35,
   "id": "066afdfe",
   "metadata": {},
   "outputs": [
    {
     "name": "stdout",
     "output_type": "stream",
     "text": [
      "[-2 -1  0  1]\n"
     ]
    }
   ],
   "source": [
    "import numpy as np\n",
    "\n",
    "var = np.array([1,2,3,4])\n",
    "\n",
    "varadd = var - 3\n",
    "\n",
    "print(varadd)"
   ]
  },
  {
   "cell_type": "markdown",
   "id": "86e4abd6",
   "metadata": {},
   "source": [
    "***3. multiply()***"
   ]
  },
  {
   "cell_type": "code",
   "execution_count": 36,
   "id": "c702e310",
   "metadata": {},
   "outputs": [
    {
     "name": "stdout",
     "output_type": "stream",
     "text": [
      "[ 3  6  9 12]\n"
     ]
    }
   ],
   "source": [
    "import numpy as np\n",
    "\n",
    "var = np.array([1,2,3,4])\n",
    "\n",
    "varadd = var * 3\n",
    "\n",
    "print(varadd)"
   ]
  },
  {
   "cell_type": "markdown",
   "id": "7f1409cd",
   "metadata": {},
   "source": [
    "***4. mod()***"
   ]
  },
  {
   "cell_type": "code",
   "execution_count": 37,
   "id": "416c8cf2",
   "metadata": {},
   "outputs": [
    {
     "name": "stdout",
     "output_type": "stream",
     "text": [
      "[1 2 0 1]\n"
     ]
    }
   ],
   "source": [
    "import numpy as np\n",
    "\n",
    "var = np.array([1,2,3,4])\n",
    "\n",
    "varadd = var % 3\n",
    "\n",
    "print(varadd)"
   ]
  },
  {
   "cell_type": "markdown",
   "id": "47a01386",
   "metadata": {},
   "source": [
    "***5. divide()***"
   ]
  },
  {
   "cell_type": "code",
   "execution_count": 38,
   "id": "2539fb68",
   "metadata": {},
   "outputs": [
    {
     "name": "stdout",
     "output_type": "stream",
     "text": [
      "[0.33333333 0.66666667 1.         1.33333333]\n"
     ]
    }
   ],
   "source": [
    "import numpy as np\n",
    "\n",
    "var = np.array([1,2,3,4])\n",
    "\n",
    "varadd = var / 3\n",
    "\n",
    "print(varadd)"
   ]
  },
  {
   "cell_type": "markdown",
   "id": "e4560e03",
   "metadata": {},
   "source": [
    "***6. power()***"
   ]
  },
  {
   "cell_type": "code",
   "execution_count": 39,
   "id": "2d94bcab",
   "metadata": {},
   "outputs": [
    {
     "name": "stdout",
     "output_type": "stream",
     "text": [
      "[ 1  8 27 64]\n"
     ]
    }
   ],
   "source": [
    "import numpy as np\n",
    "\n",
    "var = np.array([1,2,3,4])\n",
    "\n",
    "varadd = var ** 3\n",
    "\n",
    "print(varadd)"
   ]
  },
  {
   "cell_type": "markdown",
   "id": "917c1e6b",
   "metadata": {},
   "source": [
    "***7. reciprocal()***"
   ]
  },
  {
   "cell_type": "code",
   "execution_count": 40,
   "id": "e9b56701",
   "metadata": {},
   "outputs": [
    {
     "name": "stdout",
     "output_type": "stream",
     "text": [
      "[[0 0 0 0]\n",
      " [1 0 0 0]]\n"
     ]
    }
   ],
   "source": [
    "import numpy as np\n",
    "\n",
    "var1 = np.array([5,6,7,8])\n",
    "var2 = np.array([1,2,3,4])\n",
    "\n",
    "x = np.array([var1 , var2])\n",
    "\n",
    "array_rec = np.reciprocal(x)\n",
    "\n",
    "print(array_rec)"
   ]
  },
  {
   "cell_type": "code",
   "execution_count": 41,
   "id": "346b87d5",
   "metadata": {},
   "outputs": [
    {
     "name": "stdout",
     "output_type": "stream",
     "text": [
      "[1 0 0 0]\n"
     ]
    }
   ],
   "source": [
    "import numpy as np\n",
    "\n",
    "var = np.array([1,2,3,4])\n",
    "\n",
    "varadd = np.reciprocal(var)\n",
    "\n",
    "print(varadd)"
   ]
  },
  {
   "cell_type": "markdown",
   "id": "b0ab986d",
   "metadata": {},
   "source": [
    "# 2D Array"
   ]
  },
  {
   "cell_type": "code",
   "execution_count": 42,
   "id": "cc003ec4",
   "metadata": {},
   "outputs": [
    {
     "name": "stdout",
     "output_type": "stream",
     "text": [
      "[[1 2 3 4]\n",
      " [1 2 3 4]]\n",
      "\n",
      "[[1 2 3 4]\n",
      " [1 2 3 4]]\n",
      "\n",
      "[[2 4 6 8]\n",
      " [2 4 6 8]]\n"
     ]
    }
   ],
   "source": [
    "var21 = np.array([[1,2,3,4],[1,2,3,4]])\n",
    "var22 = np.array([[1,2,3,4],[1,2,3,4]])\n",
    "\n",
    "print(var21)\n",
    "print()\n",
    "print(var22)\n",
    "print()\n",
    "\n",
    "varadd = var21 + var22\n",
    "\n",
    "print(varadd)"
   ]
  },
  {
   "cell_type": "code",
   "execution_count": 43,
   "id": "ef94a2f1",
   "metadata": {},
   "outputs": [
    {
     "name": "stdout",
     "output_type": "stream",
     "text": [
      "[[1 2 3 4]\n",
      " [1 2 3 4]]\n",
      "\n",
      "[[1 2 3 4]\n",
      " [1 2 3 4]]\n",
      "\n",
      "[[ 1  4  9 16]\n",
      " [ 1  4  9 16]]\n"
     ]
    }
   ],
   "source": [
    "var21 = np.array([[1,2,3,4],[1,2,3,4]])\n",
    "var22 = np.array([[1,2,3,4],[1,2,3,4]])\n",
    "\n",
    "print(var21)\n",
    "print()\n",
    "print(var22)\n",
    "print()\n",
    "\n",
    "varadd = var21 * var22\n",
    "\n",
    "print(varadd)"
   ]
  },
  {
   "cell_type": "code",
   "execution_count": 44,
   "id": "047258da",
   "metadata": {},
   "outputs": [
    {
     "name": "stdout",
     "output_type": "stream",
     "text": [
      "[[1 2 3 4]\n",
      " [1 2 3 4]]\n",
      "\n",
      "[[1 2 3 4]\n",
      " [1 2 3 4]]\n",
      "\n",
      "[[0 0 0 0]\n",
      " [0 0 0 0]]\n"
     ]
    }
   ],
   "source": [
    "var21 = np.array([[1,2,3,4],[1,2,3,4]])\n",
    "var22 = np.array([[1,2,3,4],[1,2,3,4]])\n",
    "\n",
    "print(var21)\n",
    "print()\n",
    "print(var22)\n",
    "print()\n",
    "\n",
    "varadd = var21 - var22\n",
    "\n",
    "print(varadd)"
   ]
  },
  {
   "cell_type": "markdown",
   "id": "833b056d",
   "metadata": {},
   "source": [
    "# Arithmetic Functions"
   ]
  },
  {
   "cell_type": "markdown",
   "id": "55e8b920",
   "metadata": {},
   "source": [
    "1. min()\n",
    "2. max()\n",
    "3. argmin()\n",
    "4. sqrt()\n",
    "5. sin()\n",
    "6. cos()\n",
    "7. cumsum()"
   ]
  },
  {
   "cell_type": "code",
   "execution_count": 45,
   "id": "4daa6a14",
   "metadata": {},
   "outputs": [
    {
     "name": "stdout",
     "output_type": "stream",
     "text": [
      "min :  1 0\n",
      "max :  5 4\n",
      "sqrt :  [1.         1.41421356 1.73205081 2.         2.23606798 1.73205081\n",
      " 1.41421356]\n"
     ]
    }
   ],
   "source": [
    "import numpy as np\n",
    "\n",
    "var = np.array([1,2,3,4,5,3,2])\n",
    "\n",
    "print(\"min : \",np.min(var),np.argmin(var))    #arg means index numbers perticular number ki\n",
    "print(\"max : \",np.max(var),np.argmax(var))\n",
    "print(\"sqrt : \",np.sqrt(var))"
   ]
  },
  {
   "cell_type": "code",
   "execution_count": 46,
   "id": "f675df58",
   "metadata": {},
   "outputs": [
    {
     "name": "stdout",
     "output_type": "stream",
     "text": [
      "[1 5]\n",
      "[2 1 4]\n"
     ]
    }
   ],
   "source": [
    "var1 = np.array([[2,1,4],[9,8,5]])\n",
    "\n",
    "print(np.min(var1,axis=1))  #compare sprate index\n",
    "print(np.min(var1,axis=0))  #compare between 0 and 1 index"
   ]
  },
  {
   "cell_type": "code",
   "execution_count": 47,
   "id": "8c8f60af",
   "metadata": {},
   "outputs": [
    {
     "name": "stdout",
     "output_type": "stream",
     "text": [
      "[0.84147098 0.90929743 0.14112001]\n",
      "[ 0.54030231 -0.41614684 -0.9899925 ]\n",
      "[1 3 6]\n"
     ]
    }
   ],
   "source": [
    "var2 = np.array([1,2,3])\n",
    "\n",
    "print(np.sin(var2))\n",
    "print(np.cos(var2))\n",
    "print(np.cumsum(var2)) # add number for previous value"
   ]
  },
  {
   "cell_type": "markdown",
   "id": "35b3c6e2",
   "metadata": {},
   "source": [
    "# Shape and Reshape Array"
   ]
  },
  {
   "cell_type": "markdown",
   "id": "c2f2a7ce",
   "metadata": {},
   "source": [
    "***Shape***"
   ]
  },
  {
   "cell_type": "code",
   "execution_count": 48,
   "id": "5c6e8806",
   "metadata": {},
   "outputs": [
    {
     "name": "stdout",
     "output_type": "stream",
     "text": [
      "[[1 2 5]\n",
      " [1 2 3]]\n",
      "\n",
      "(2, 3)\n"
     ]
    }
   ],
   "source": [
    "import numpy as np\n",
    "\n",
    "var = np.array([[1,2,5],[1,2,3]])\n",
    "\n",
    "print(var)\n",
    "print()\n",
    "print(var.shape)"
   ]
  },
  {
   "cell_type": "code",
   "execution_count": 49,
   "id": "f3cd678b",
   "metadata": {},
   "outputs": [
    {
     "name": "stdout",
     "output_type": "stream",
     "text": [
      "[[[[1 2 3 4]]]]\n",
      "4\n",
      "\n",
      "(1, 1, 1, 4)\n"
     ]
    }
   ],
   "source": [
    "var1 = np.array([1,2,3,4], ndmin = 4)\n",
    "\n",
    "print(var1)\n",
    "print(var1.ndim)\n",
    "print()\n",
    "print(var1.shape)"
   ]
  },
  {
   "cell_type": "markdown",
   "id": "be48ea8d",
   "metadata": {},
   "source": [
    "***Reshape***"
   ]
  },
  {
   "cell_type": "code",
   "execution_count": 50,
   "id": "519d5ab8",
   "metadata": {},
   "outputs": [
    {
     "name": "stdout",
     "output_type": "stream",
     "text": [
      "[1 2 3 4 5 6]\n",
      "1\n",
      "\n",
      "[[1 2]\n",
      " [3 4]\n",
      " [5 6]]\n",
      "2\n"
     ]
    }
   ],
   "source": [
    "var2 = np.array([1,2,3,4,5,6])\n",
    "print(var2)\n",
    "print(var2.ndim)\n",
    "\n",
    "print()\n",
    "\n",
    "x = var2.reshape(3,2)\n",
    "\n",
    "print(x)\n",
    "print(x.ndim)"
   ]
  },
  {
   "cell_type": "code",
   "execution_count": 51,
   "id": "05e6d066",
   "metadata": {},
   "outputs": [
    {
     "name": "stdout",
     "output_type": "stream",
     "text": [
      "[ 1  2  3  4  5  6  7  8  9 10 11 12]\n",
      "1\n",
      "\n",
      "[[1 2]\n",
      " [3 4]\n",
      " [5 6]]\n",
      "2\n",
      "[ 1  2  3  4  5  6  7  8  9 10 11 12]\n",
      "1\n"
     ]
    }
   ],
   "source": [
    "var3 = np.array([1,2,3,4,5,6,7,8,9,10,11,12])\n",
    "print(var3)\n",
    "print(var3.ndim)\n",
    "\n",
    "print()\n",
    "\n",
    "x1 = var3.reshape(2,3,2)\n",
    "\n",
    "print(x)\n",
    "print(x.ndim)\n",
    "\n",
    "one = x1.reshape(-1)\n",
    "print(one)\n",
    "print(one.ndim)"
   ]
  },
  {
   "cell_type": "markdown",
   "id": "ba989d94",
   "metadata": {},
   "source": [
    "# Broadcasting in NumPy"
   ]
  },
  {
   "cell_type": "code",
   "execution_count": 52,
   "id": "aa7f6c4f",
   "metadata": {},
   "outputs": [
    {
     "name": "stdout",
     "output_type": "stream",
     "text": [
      "[2 4 6 8]\n"
     ]
    }
   ],
   "source": [
    "import numpy as np\n",
    "\n",
    "var1 = np.array([1,2,3,4])\n",
    "var2 = np.array([1,2,3,4])\n",
    "\n",
    "print(var1 + var2)"
   ]
  },
  {
   "cell_type": "code",
   "execution_count": 53,
   "id": "d59292e3",
   "metadata": {},
   "outputs": [
    {
     "name": "stdout",
     "output_type": "stream",
     "text": [
      "(3,)\n",
      "\n",
      "[1 2 3]\n",
      "\n",
      "(3, 1)\n",
      "\n",
      "[[1]\n",
      " [2]\n",
      " [3]]\n",
      "\n",
      "[[2 3 4]\n",
      " [3 4 5]\n",
      " [4 5 6]]\n"
     ]
    }
   ],
   "source": [
    "import numpy as np\n",
    "\n",
    "var1 = np.array([1,2,3])\n",
    "print(var1.shape)\n",
    "print()\n",
    "print(var1)\n",
    "print()\n",
    "\n",
    "var2 = np.array([[1],[2],[3]])\n",
    "print(var2.shape)\n",
    "print()\n",
    "print(var2)\n",
    "print()\n",
    "print(var1 + var2)"
   ]
  },
  {
   "cell_type": "code",
   "execution_count": 54,
   "id": "18989ac3",
   "metadata": {},
   "outputs": [
    {
     "name": "stdout",
     "output_type": "stream",
     "text": [
      "(2, 1)\n",
      "\n",
      "(2, 3)\n",
      "\n",
      "[[2 3 4]\n",
      " [3 4 5]]\n"
     ]
    }
   ],
   "source": [
    "x = np.array([[1],[2]])\n",
    "print(x.shape)\n",
    "print()\n",
    "y = np.array([[1,2,3],[1,2,3]])\n",
    "print(y.shape)\n",
    "print()\n",
    "print(x+y)"
   ]
  },
  {
   "cell_type": "markdown",
   "id": "7da5f33d",
   "metadata": {},
   "source": [
    "# Indexing and Slicing in NumPy Arrays"
   ]
  },
  {
   "cell_type": "markdown",
   "id": "1bad2e00",
   "metadata": {},
   "source": [
    "***Indexing***"
   ]
  },
  {
   "cell_type": "code",
   "execution_count": 55,
   "id": "e10b86c0",
   "metadata": {},
   "outputs": [
    {
     "name": "stdout",
     "output_type": "stream",
     "text": [
      "8\n",
      "8\n"
     ]
    }
   ],
   "source": [
    "import numpy as np\n",
    "\n",
    "var = np.array([9,8,7,6])\n",
    "\n",
    "print(var[1])\n",
    "print(var[-3])"
   ]
  },
  {
   "cell_type": "code",
   "execution_count": 56,
   "id": "02c76e8b",
   "metadata": {},
   "outputs": [
    {
     "name": "stdout",
     "output_type": "stream",
     "text": [
      "[[9 8 7]\n",
      " [4 5 6]]\n",
      "2\n",
      "\n",
      "7\n"
     ]
    }
   ],
   "source": [
    "var1 = np.array([[9,8,7],[4,5,6]])\n",
    "\n",
    "print(var1)\n",
    "print(var1.ndim)\n",
    "print()\n",
    "\n",
    "print(var1[0,2])"
   ]
  },
  {
   "cell_type": "code",
   "execution_count": 57,
   "id": "cb1a86db",
   "metadata": {},
   "outputs": [
    {
     "name": "stdout",
     "output_type": "stream",
     "text": [
      "[[[1 2]\n",
      "  [1 2]]]\n",
      "3\n",
      "\n",
      "[1 2]\n"
     ]
    }
   ],
   "source": [
    "var2 = np.array([[[1,2],[1,2]]])\n",
    "\n",
    "print(var2)\n",
    "print(var2.ndim)\n",
    "print()\n",
    "print(var2[0,1])"
   ]
  },
  {
   "cell_type": "markdown",
   "id": "0fb42ffa",
   "metadata": {},
   "source": [
    "***Slicing***"
   ]
  },
  {
   "cell_type": "code",
   "execution_count": 58,
   "id": "78307fcb",
   "metadata": {},
   "outputs": [
    {
     "name": "stdout",
     "output_type": "stream",
     "text": [
      "[1 2 3 4 5 6 7]\n",
      "\n",
      "2 to 5 :  [2 3 4 5]\n",
      "2 to End :  [2 3 4 5 6 7]\n",
      "start to 5 :  [1 2 3 4 5]\n",
      "stop :  [1 3 5 7]\n",
      "stop :  [2 4]\n"
     ]
    }
   ],
   "source": [
    "import numpy as np\n",
    "\n",
    "var = np.array([1,2,3,4,5,6,7])\n",
    "\n",
    "print(var)\n",
    "print()\n",
    "print(\"2 to 5 : \",var[1:5])\n",
    "\n",
    "print(\"2 to End : \",var[1:])\n",
    "\n",
    "print(\"start to 5 : \",var[:5])\n",
    "\n",
    "print(\"stop : \",var[::2])\n",
    "\n",
    "print(\"stop : \",var[1:5:2]) #start:stop:step"
   ]
  },
  {
   "cell_type": "code",
   "execution_count": 59,
   "id": "3c66aaf4",
   "metadata": {},
   "outputs": [
    {
     "name": "stdout",
     "output_type": "stream",
     "text": [
      "[[ 1  2  3  4  5]\n",
      " [ 9  8  7  6  5]\n",
      " [11 12 13 14 15]]\n",
      "\n",
      "8 to 5 :  [12 13 14 15]\n"
     ]
    }
   ],
   "source": [
    "var1 = np.array([[1,2,3,4,5],[9,8,7,6,5],[11,12,13,14,15]])\n",
    "\n",
    "print(var1)\n",
    "print()\n",
    "\n",
    "print(\"8 to 5 : \",var1[2,1:])"
   ]
  },
  {
   "cell_type": "markdown",
   "id": "52188f3e",
   "metadata": {},
   "source": [
    "# Iteration NumPy Array"
   ]
  },
  {
   "cell_type": "code",
   "execution_count": 60,
   "id": "db10d834",
   "metadata": {},
   "outputs": [
    {
     "name": "stdout",
     "output_type": "stream",
     "text": [
      "[1 3 5 7 9 8 6 4 2]\n",
      "\n",
      "1\n",
      "3\n",
      "5\n",
      "7\n",
      "9\n",
      "8\n",
      "6\n",
      "4\n",
      "2\n"
     ]
    }
   ],
   "source": [
    "import numpy as np\n",
    "\n",
    "var = np.array([1,3,5,7,9,8,6,4,2])\n",
    "print(var)\n",
    "print()\n",
    "\n",
    "for i in var :\n",
    "    print(i)"
   ]
  },
  {
   "cell_type": "code",
   "execution_count": 61,
   "id": "931d5776",
   "metadata": {},
   "outputs": [
    {
     "name": "stdout",
     "output_type": "stream",
     "text": [
      "[[1 2 3 4]\n",
      " [1 2 3 4]]\n",
      "\n",
      "[1 2 3 4]\n",
      "[1 2 3 4]\n",
      "\n",
      "1\n",
      "2\n",
      "3\n",
      "4\n",
      "1\n",
      "2\n",
      "3\n",
      "4\n"
     ]
    }
   ],
   "source": [
    "var1 = np.array([[1,2,3,4],[1,2,3,4]])\n",
    "print(var1)\n",
    "print()\n",
    "\n",
    "for j in var1 :\n",
    "    print(j)\n",
    "print()\n",
    "\n",
    "for k in var1 :\n",
    "    for l in k :\n",
    "        print(l)"
   ]
  },
  {
   "cell_type": "code",
   "execution_count": 62,
   "id": "b670d1ef",
   "metadata": {},
   "outputs": [
    {
     "name": "stdout",
     "output_type": "stream",
     "text": [
      "[[[1 2 3 4]\n",
      "  [1 2 3 4]]]\n",
      "3\n",
      "\n",
      "1\n",
      "2\n",
      "3\n",
      "4\n",
      "1\n",
      "2\n",
      "3\n",
      "4\n"
     ]
    }
   ],
   "source": [
    "var3 = np.array([[[1,2,3,4],[1,2,3,4]]])\n",
    "print(var3)\n",
    "print(var3.ndim)\n",
    "print()\n",
    "\n",
    "for i in var3 :\n",
    "    for j in i : \n",
    "        for k in j :\n",
    "            print(k)"
   ]
  },
  {
   "cell_type": "code",
   "execution_count": 63,
   "id": "292946f2",
   "metadata": {},
   "outputs": [
    {
     "name": "stdout",
     "output_type": "stream",
     "text": [
      "[[[1 2 3 4]\n",
      "  [1 2 3 4]]]\n",
      "3\n",
      "\n",
      "1\n",
      "2\n",
      "3\n",
      "4\n",
      "1\n",
      "2\n",
      "3\n",
      "4\n"
     ]
    }
   ],
   "source": [
    "var3 = np.array([[[1,2,3,4],[1,2,3,4]]])\n",
    "print(var3)\n",
    "print(var3.ndim)\n",
    "print()\n",
    "\n",
    "for i in np.nditer(var3):\n",
    "            print(i)"
   ]
  },
  {
   "cell_type": "code",
   "execution_count": 64,
   "id": "cad5e969",
   "metadata": {},
   "outputs": [
    {
     "name": "stdout",
     "output_type": "stream",
     "text": [
      "[[[1 2 3 4]\n",
      "  [1 2 3 4]]]\n",
      "3\n",
      "\n",
      "(0, 0, 0) 1\n",
      "(0, 0, 1) 2\n",
      "(0, 0, 2) 3\n",
      "(0, 0, 3) 4\n",
      "(0, 1, 0) 1\n",
      "(0, 1, 1) 2\n",
      "(0, 1, 2) 3\n",
      "(0, 1, 3) 4\n"
     ]
    }
   ],
   "source": [
    "var3 = np.array([[[1,2,3,4],[1,2,3,4]]])\n",
    "print(var3)\n",
    "print(var3.ndim)\n",
    "print()\n",
    "\n",
    "for i,d in np.ndenumerate(var3):\n",
    "            print(i,d)"
   ]
  },
  {
   "cell_type": "markdown",
   "id": "6dc5a90d",
   "metadata": {},
   "source": [
    "# Copy and View in NumPy Arrays"
   ]
  },
  {
   "cell_type": "code",
   "execution_count": 65,
   "id": "771d3d35",
   "metadata": {},
   "outputs": [
    {
     "name": "stdout",
     "output_type": "stream",
     "text": [
      "var :  [ 1 60  3  4]\n",
      "copy :  [1 2 3 4]\n"
     ]
    }
   ],
   "source": [
    "import numpy as np\n",
    "\n",
    "var = np.array([1,2,3,4])\n",
    "\n",
    "co = var.copy()\n",
    "var[1] = 60\n",
    "print(\"var : \",var)\n",
    "print(\"copy : \",co)"
   ]
  },
  {
   "cell_type": "code",
   "execution_count": 66,
   "id": "d4f3abf4",
   "metadata": {},
   "outputs": [
    {
     "name": "stdout",
     "output_type": "stream",
     "text": [
      "x :  [ 9 80  7  6  5]\n",
      "view :  [ 9 80  7  6  5]\n"
     ]
    }
   ],
   "source": [
    "x = np.array([9,8,7,6,5])\n",
    "\n",
    "vi = x.view()\n",
    "x[1] = 80\n",
    "print(\"x : \",x)\n",
    "print(\"view : \",vi)"
   ]
  },
  {
   "cell_type": "markdown",
   "id": "47f5a54a",
   "metadata": {},
   "source": [
    "# Join & Split Functions"
   ]
  },
  {
   "cell_type": "markdown",
   "id": "7eabc09b",
   "metadata": {},
   "source": [
    "***join Array***"
   ]
  },
  {
   "cell_type": "code",
   "execution_count": 67,
   "id": "4644d038",
   "metadata": {},
   "outputs": [
    {
     "name": "stdout",
     "output_type": "stream",
     "text": [
      "[1 2 3 4 9 8 7 6]\n"
     ]
    }
   ],
   "source": [
    "import numpy as np\n",
    "\n",
    "var = np.array([1,2,3,4])\n",
    "var1 = np.array([9,8,7,6])\n",
    "\n",
    "ar = np.concatenate((var,var1))\n",
    "\n",
    "print(ar)"
   ]
  },
  {
   "cell_type": "code",
   "execution_count": 68,
   "id": "1d681699",
   "metadata": {},
   "outputs": [
    {
     "name": "stdout",
     "output_type": "stream",
     "text": [
      "[[1 2]\n",
      " [3 4]]\n",
      "\n",
      "[[9 8]\n",
      " [7 6]]\n",
      "\n",
      "[[1 2 9 8]\n",
      " [3 4 7 6]]\n"
     ]
    }
   ],
   "source": [
    "import numpy as np\n",
    "\n",
    "vr = np.array([[1,2],[3,4]])\n",
    "vr1 = np.array([[9,8],[7,6]])\n",
    "\n",
    "ar_new = np.concatenate((vr,vr1),axis = 1)\n",
    "\n",
    "print(vr)\n",
    "print()\n",
    "print(vr1)\n",
    "print()\n",
    "print(ar_new)"
   ]
  },
  {
   "cell_type": "code",
   "execution_count": 69,
   "id": "f422f773",
   "metadata": {},
   "outputs": [
    {
     "name": "stdout",
     "output_type": "stream",
     "text": [
      "[[1 9]\n",
      " [2 8]\n",
      " [3 7]\n",
      " [4 6]]\n"
     ]
    }
   ],
   "source": [
    "import numpy as np\n",
    "\n",
    "var_1 = np.array([1,2,3,4])\n",
    "var_2 = np.array([9,8,7,6])\n",
    "\n",
    "a_new = np.stack((var_1,var_2),axis = 1)\n",
    "\n",
    "print(a_new)"
   ]
  },
  {
   "cell_type": "code",
   "execution_count": 70,
   "id": "ceae7321",
   "metadata": {},
   "outputs": [
    {
     "name": "stdout",
     "output_type": "stream",
     "text": [
      "[[1 2 3 4]\n",
      " [9 8 7 6]]\n"
     ]
    }
   ],
   "source": [
    "import numpy as np\n",
    "\n",
    "var_1 = np.array([1,2,3,4])\n",
    "var_2 = np.array([9,8,7,6])\n",
    "\n",
    "a_new = np.stack((var_1,var_2),axis = 0)\n",
    "\n",
    "print(a_new)"
   ]
  },
  {
   "cell_type": "code",
   "execution_count": 71,
   "id": "1866faa2",
   "metadata": {},
   "outputs": [
    {
     "name": "stdout",
     "output_type": "stream",
     "text": [
      "[1 2 3 4 9 8 7 6]\n"
     ]
    }
   ],
   "source": [
    "import numpy as np\n",
    "\n",
    "var_1 = np.array([1,2,3,4])\n",
    "var_2 = np.array([9,8,7,6])\n",
    "\n",
    "a_new = np.hstack((var_1,var_2)) #row\n",
    "\n",
    "print(a_new)"
   ]
  },
  {
   "cell_type": "code",
   "execution_count": 72,
   "id": "f772b1ac",
   "metadata": {},
   "outputs": [
    {
     "name": "stdout",
     "output_type": "stream",
     "text": [
      "[[1 2 3 4]\n",
      " [9 8 7 6]]\n"
     ]
    }
   ],
   "source": [
    "import numpy as np\n",
    "\n",
    "var_1 = np.array([1,2,3,4])\n",
    "var_2 = np.array([9,8,7,6])\n",
    "\n",
    "a_new = np.vstack((var_1,var_2)) #column\n",
    "\n",
    "print(a_new)"
   ]
  },
  {
   "cell_type": "code",
   "execution_count": 73,
   "id": "9f4fb469",
   "metadata": {},
   "outputs": [
    {
     "name": "stdout",
     "output_type": "stream",
     "text": [
      "[[[1 9]\n",
      "  [2 8]\n",
      "  [3 7]\n",
      "  [4 6]]]\n"
     ]
    }
   ],
   "source": [
    "import numpy as np\n",
    "\n",
    "var_1 = np.array([1,2,3,4])\n",
    "var_2 = np.array([9,8,7,6])\n",
    "\n",
    "a_new = np.dstack((var_1,var_2)) #height\n",
    "\n",
    "print(a_new)"
   ]
  },
  {
   "cell_type": "markdown",
   "id": "a177d0ae",
   "metadata": {},
   "source": [
    "***Split Array***"
   ]
  },
  {
   "cell_type": "code",
   "execution_count": 74,
   "id": "f7bd4015",
   "metadata": {},
   "outputs": [
    {
     "name": "stdout",
     "output_type": "stream",
     "text": [
      "[1 2 3 4 5 6]\n",
      "\n",
      "[array([1, 2, 3]), array([4, 5, 6])]\n",
      "<class 'list'>\n",
      "[4 5 6]\n"
     ]
    }
   ],
   "source": [
    "import numpy as np\n",
    "\n",
    "var = np.array([1,2,3,4,5,6])\n",
    "\n",
    "print(var)\n",
    "\n",
    "ar = np.array_split(var,2)\n",
    "\n",
    "print()\n",
    "print(ar)\n",
    "print(type(ar))\n",
    "print(ar[1])"
   ]
  },
  {
   "cell_type": "code",
   "execution_count": 75,
   "id": "28318880",
   "metadata": {},
   "outputs": [
    {
     "name": "stdout",
     "output_type": "stream",
     "text": [
      "[[1 2]\n",
      " [3 4]\n",
      " [5 6]]\n",
      "\n",
      "[array([[1, 2]]), array([[3, 4]]), array([[5, 6]])]\n"
     ]
    }
   ],
   "source": [
    "var1 = np.array([[1,2],[3,4],[5,6]])\n",
    "\n",
    "print(var1)\n",
    "\n",
    "ar1 = np.array_split(var1,3)\n",
    "\n",
    "print()\n",
    "print(ar1)"
   ]
  },
  {
   "cell_type": "code",
   "execution_count": 76,
   "id": "bc604fc9",
   "metadata": {},
   "outputs": [
    {
     "name": "stdout",
     "output_type": "stream",
     "text": [
      "[[1 2]\n",
      " [3 4]\n",
      " [5 6]]\n",
      "\n",
      "[array([[1, 2]]), array([[3, 4]]), array([[5, 6]])]\n",
      "\n",
      "[array([[1],\n",
      "       [3],\n",
      "       [5]]), array([[2],\n",
      "       [4],\n",
      "       [6]]), array([], shape=(3, 0), dtype=int32)]\n"
     ]
    }
   ],
   "source": [
    "var1 = np.array([[1,2],[3,4],[5,6]])\n",
    "\n",
    "print(var1)\n",
    "\n",
    "ar1 = np.array_split(var1,3)\n",
    "ar2 = np.array_split(var1,3,axis=1)\n",
    "\n",
    "print()\n",
    "print(ar1)\n",
    "print()\n",
    "print(ar2)"
   ]
  },
  {
   "cell_type": "markdown",
   "id": "0f5c70ae",
   "metadata": {},
   "source": [
    "# Array Functions"
   ]
  },
  {
   "cell_type": "markdown",
   "id": "94674879",
   "metadata": {},
   "source": [
    "1. Search\n",
    "2. Sort\n",
    "3. Filter\n",
    "4. Shuffle\n",
    "5. Unique\n",
    "6. Resize\n",
    "7. Flatten\n",
    "8. Ravel\n",
    "9. Insert\n",
    "10. Append\n",
    "11. Delete"
   ]
  },
  {
   "cell_type": "markdown",
   "id": "496f6f3a",
   "metadata": {},
   "source": [
    "***1. Search***"
   ]
  },
  {
   "cell_type": "code",
   "execution_count": 77,
   "id": "4e968adc",
   "metadata": {},
   "outputs": [
    {
     "name": "stdout",
     "output_type": "stream",
     "text": [
      "(array([1, 3, 5, 6], dtype=int64),)\n",
      "(array([3, 6], dtype=int64),)\n"
     ]
    }
   ],
   "source": [
    "import numpy as np\n",
    "\n",
    "var = np.array([1,2,3,4,5,6,4,3])\n",
    "\n",
    "x = np.where((var%2) == 0)\n",
    "y = np.where(var == 4)\n",
    "\n",
    "print(x)\n",
    "print(y)"
   ]
  },
  {
   "cell_type": "code",
   "execution_count": 78,
   "id": "bb47aae7",
   "metadata": {},
   "outputs": [
    {
     "name": "stdout",
     "output_type": "stream",
     "text": [
      "[4 5 6]\n"
     ]
    }
   ],
   "source": [
    "var1 = np.array([1,2,3,4,6,7,8,9])\n",
    "\n",
    "x1 = np.searchsorted(var1 , [5,6,7] , side = \"right\")\n",
    "\n",
    "print(x1)"
   ]
  },
  {
   "cell_type": "markdown",
   "id": "767bec91",
   "metadata": {},
   "source": [
    "***2. Sort***"
   ]
  },
  {
   "cell_type": "code",
   "execution_count": 79,
   "id": "579f3544",
   "metadata": {},
   "outputs": [
    {
     "name": "stdout",
     "output_type": "stream",
     "text": [
      "[ 2  3  4  5  5  6 24 43 76 78 90]\n"
     ]
    }
   ],
   "source": [
    "var_2 = np.array([4,3,2,5,6,76,5,43,78,24,90])\n",
    "\n",
    "print(np.sort(var_2))"
   ]
  },
  {
   "cell_type": "code",
   "execution_count": 80,
   "id": "85033af4",
   "metadata": {},
   "outputs": [
    {
     "name": "stdout",
     "output_type": "stream",
     "text": [
      "['a' 'd' 'f' 's']\n"
     ]
    }
   ],
   "source": [
    "var_2 = np.array([\"a\",\"s\",\"d\",\"f\"])\n",
    "\n",
    "print(np.sort(var_2))"
   ]
  },
  {
   "cell_type": "code",
   "execution_count": 81,
   "id": "0b4ef2aa",
   "metadata": {},
   "outputs": [
    {
     "name": "stdout",
     "output_type": "stream",
     "text": [
      "[[ 2  3  4  5  5  6 76]\n",
      " [ 7  8 24 43 78 88 90]]\n"
     ]
    }
   ],
   "source": [
    "var_2 = np.array([[4,3,2,5,6,76,5],[43,78,24,90,8,7,88]])\n",
    "\n",
    "print(np.sort(var_2))"
   ]
  },
  {
   "cell_type": "markdown",
   "id": "505e7565",
   "metadata": {},
   "source": [
    "***3. Filter***"
   ]
  },
  {
   "cell_type": "code",
   "execution_count": 82,
   "id": "0b8e886d",
   "metadata": {},
   "outputs": [
    {
     "name": "stdout",
     "output_type": "stream",
     "text": [
      "['a' 'f']\n",
      "<class 'numpy.ndarray'>\n"
     ]
    }
   ],
   "source": [
    "var_3 = np.array([\"a\",\"s\",\"d\",\"f\"])\n",
    "\n",
    "f = [True,False,False,True]\n",
    "\n",
    "new_a = var_3[f]\n",
    "\n",
    "print(new_a)\n",
    "print(type(new_a))"
   ]
  },
  {
   "cell_type": "markdown",
   "id": "96ccb0c1",
   "metadata": {},
   "source": [
    "***4. Shuffle***"
   ]
  },
  {
   "cell_type": "code",
   "execution_count": 83,
   "id": "d9c7ec57",
   "metadata": {},
   "outputs": [
    {
     "name": "stdout",
     "output_type": "stream",
     "text": [
      "[5 4 1 3 2]\n"
     ]
    }
   ],
   "source": [
    "var = np.array([1,2,3,4,5])\n",
    "\n",
    "np.random.shuffle(var)\n",
    "\n",
    "print(var)"
   ]
  },
  {
   "cell_type": "markdown",
   "id": "6c8cb3a4",
   "metadata": {},
   "source": [
    "***5. Unique***"
   ]
  },
  {
   "cell_type": "code",
   "execution_count": 84,
   "id": "6fcc6cd0",
   "metadata": {},
   "outputs": [
    {
     "name": "stdout",
     "output_type": "stream",
     "text": [
      "[1 2 3 4 5 6 7 8 9]\n",
      "\n",
      "(array([1, 2, 3, 4, 5, 6, 7, 8, 9]), array([ 0,  1,  2,  3,  4,  7,  8,  9, 10], dtype=int64))\n",
      "\n",
      "(array([1, 2, 3, 4, 5, 6, 7, 8, 9]), array([ 0,  1,  2,  3,  4,  7,  8,  9, 10], dtype=int64), array([2, 2, 2, 2, 1, 1, 1, 1, 1], dtype=int64))\n"
     ]
    }
   ],
   "source": [
    "var1 = np.array([1,2,3,4,5,3,4,6,7,8,9,2,1])\n",
    "\n",
    "x = np.unique(var1)\n",
    "y = np.unique(var1,return_index = True)\n",
    "z = np.unique(var1,return_index = True,return_counts=True)\n",
    "\n",
    "print(x)\n",
    "print()\n",
    "print(y)\n",
    "print()\n",
    "print(z)"
   ]
  },
  {
   "cell_type": "markdown",
   "id": "acab8827",
   "metadata": {},
   "source": [
    "***6. Resize***"
   ]
  },
  {
   "cell_type": "code",
   "execution_count": 85,
   "id": "ee8953d5",
   "metadata": {},
   "outputs": [
    {
     "name": "stdout",
     "output_type": "stream",
     "text": [
      "[[1 2]\n",
      " [3 4]\n",
      " [5 6]]\n"
     ]
    }
   ],
   "source": [
    "var2 = np.array([1,2,3,4,5,6])\n",
    "\n",
    "y = np.resize(var2,(3,2))\n",
    "\n",
    "print(y)"
   ]
  },
  {
   "cell_type": "markdown",
   "id": "b245fd2a",
   "metadata": {},
   "source": [
    "***7. Flatten***"
   ]
  },
  {
   "cell_type": "code",
   "execution_count": 86,
   "id": "9f65c619",
   "metadata": {},
   "outputs": [
    {
     "name": "stdout",
     "output_type": "stream",
     "text": [
      "[[1 2]\n",
      " [3 4]\n",
      " [5 6]]\n",
      "\n",
      "[1 2 3 4 5 6]\n",
      "Flatten :  [1 3 5 2 4 6]\n"
     ]
    }
   ],
   "source": [
    "var2 = np.array([1,2,3,4,5,6])\n",
    "\n",
    "y = np.resize(var2,(3,2))\n",
    "\n",
    "print(y)\n",
    "print()\n",
    "\n",
    "print(y.flatten())\n",
    "print(\"Flatten : \",y.flatten(order = \"F\"))"
   ]
  },
  {
   "cell_type": "markdown",
   "id": "724372d5",
   "metadata": {},
   "source": [
    "***8. Ravel***"
   ]
  },
  {
   "cell_type": "code",
   "execution_count": 87,
   "id": "6a8464f3",
   "metadata": {},
   "outputs": [
    {
     "name": "stdout",
     "output_type": "stream",
     "text": [
      "[[1 2]\n",
      " [3 4]\n",
      " [5 6]]\n",
      "\n",
      "[1 2 3 4 5 6]\n",
      "Flatten :  [1 3 5 2 4 6]\n",
      "\n",
      "Ravel :  [1 2 3 4 5 6]\n",
      "Ravel :  [1 3 5 2 4 6]\n"
     ]
    }
   ],
   "source": [
    "var2 = np.array([1,2,3,4,5,6])\n",
    "\n",
    "y = np.resize(var2,(3,2))\n",
    "\n",
    "print(y)\n",
    "print()\n",
    "\n",
    "print(y.flatten())\n",
    "print(\"Flatten : \",y.flatten(order = \"F\"))\n",
    "print()\n",
    "print(\"Ravel : \",np.ravel(y))\n",
    "print(\"Ravel : \",np.ravel(y,order = \"F\")) #{'C','F','A','K'}"
   ]
  },
  {
   "cell_type": "markdown",
   "id": "62449e6e",
   "metadata": {},
   "source": [
    "***9. Insert***"
   ]
  },
  {
   "cell_type": "code",
   "execution_count": 88,
   "id": "acc9289d",
   "metadata": {},
   "outputs": [
    {
     "name": "stdout",
     "output_type": "stream",
     "text": [
      "[1 2 3 4]\n",
      "<class 'numpy.ndarray'>\n",
      "[ 1  2 40  3  4]\n",
      "[ 1  2 40  3  4 40]\n"
     ]
    }
   ],
   "source": [
    "import numpy as np\n",
    "\n",
    "var = np.array([1,2,3,4])\n",
    "\n",
    "print(var)\n",
    "print(type(var))\n",
    "\n",
    "v = np.insert(var, 2,40)\n",
    "u = np.insert(var, (2,4),40)\n",
    "\n",
    "print(v)\n",
    "print(u)"
   ]
  },
  {
   "cell_type": "code",
   "execution_count": 89,
   "id": "1df48f58",
   "metadata": {},
   "outputs": [
    {
     "name": "stdout",
     "output_type": "stream",
     "text": [
      "[[1 2 3]\n",
      " [1 2 3]\n",
      " [6 6 6]]\n",
      "\n",
      "[[1 2 6 3]\n",
      " [1 2 6 3]]\n",
      "\n",
      "[[ 1  2 22  3]\n",
      " [ 1  2 23  3]]\n"
     ]
    }
   ],
   "source": [
    "var1 = np.array([[1,2,3],[1,2,3]])\n",
    "\n",
    "v1 = np.insert(var1 ,2 , 6, axis = 0)\n",
    "v2 = np.insert(var1 ,2 , 6, axis = 1)\n",
    "v3 = np.insert(var1 ,2 ,[22,23],axis = 1)\n",
    "\n",
    "print(v1)\n",
    "print()\n",
    "print(v2)\n",
    "print()\n",
    "print(v3)"
   ]
  },
  {
   "cell_type": "markdown",
   "id": "d7b082dd",
   "metadata": {},
   "source": [
    "***10. Append***"
   ]
  },
  {
   "cell_type": "code",
   "execution_count": 90,
   "id": "7b36bba1",
   "metadata": {},
   "outputs": [
    {
     "name": "stdout",
     "output_type": "stream",
     "text": [
      "[1 2 3 4]\n",
      "[1.  2.  3.  4.  6.5]\n"
     ]
    }
   ],
   "source": [
    "var = np.array([1,2,3,4])\n",
    "\n",
    "print(var)\n",
    "\n",
    "x = np.append(var,6.5)\n",
    "print(x)"
   ]
  },
  {
   "cell_type": "code",
   "execution_count": 91,
   "id": "19ae5754",
   "metadata": {},
   "outputs": [
    {
     "name": "stdout",
     "output_type": "stream",
     "text": [
      "[[ 1  2  3]\n",
      " [ 1  2  3]\n",
      " [45 34 78]]\n"
     ]
    }
   ],
   "source": [
    "var1 = np.array([[1,2,3],[1,2,3]])\n",
    "\n",
    "v1 = np.append(var1,[[45,34,78]],axis = 0)\n",
    "print(v1)"
   ]
  },
  {
   "cell_type": "markdown",
   "id": "8b61022a",
   "metadata": {},
   "source": [
    "***11. Delete***"
   ]
  },
  {
   "cell_type": "code",
   "execution_count": 92,
   "id": "a398e988",
   "metadata": {},
   "outputs": [
    {
     "name": "stdout",
     "output_type": "stream",
     "text": [
      "[1 2 3 4]\n",
      "\n",
      "[1 2 4]\n"
     ]
    }
   ],
   "source": [
    "var = np.array([1,2,3,4])\n",
    "\n",
    "print(var)\n",
    "print()\n",
    "d = np.delete(var,2)\n",
    "print(d)"
   ]
  },
  {
   "cell_type": "markdown",
   "id": "a9a1f1e8",
   "metadata": {},
   "source": [
    "# Matrix in NumPy Arrays"
   ]
  },
  {
   "cell_type": "markdown",
   "id": "1ae9de88",
   "metadata": {},
   "source": [
    "***Matrix***"
   ]
  },
  {
   "cell_type": "code",
   "execution_count": 93,
   "id": "6339cd1c",
   "metadata": {},
   "outputs": [
    {
     "name": "stdout",
     "output_type": "stream",
     "text": [
      "[[1 2 3]\n",
      " [1 2 3]]\n",
      "<class 'numpy.matrix'>\n"
     ]
    }
   ],
   "source": [
    "import numpy as np\n",
    "\n",
    "var = np.matrix([[1,2,3],[1,2,3]])\n",
    "\n",
    "print(var)\n",
    "print(type(var))"
   ]
  },
  {
   "cell_type": "code",
   "execution_count": 94,
   "id": "c8e87db0",
   "metadata": {},
   "outputs": [
    {
     "name": "stdout",
     "output_type": "stream",
     "text": [
      "[[1 2 3]\n",
      " [1 2 3]]\n",
      "\n",
      "<class 'numpy.matrix'>\n",
      "\n",
      "[[2 4 6]\n",
      " [2 4 6]]\n"
     ]
    }
   ],
   "source": [
    "import numpy as np\n",
    "\n",
    "var = np.matrix([[1,2,3],[1,2,3]])\n",
    "var1 = np.matrix([[1,2,3],[1,2,3]])\n",
    "\n",
    "print(var)\n",
    "print()\n",
    "print(type(var))\n",
    "print()\n",
    "print(var + var1)"
   ]
  },
  {
   "cell_type": "markdown",
   "id": "08a7197b",
   "metadata": {},
   "source": [
    "***Array***"
   ]
  },
  {
   "cell_type": "code",
   "execution_count": 95,
   "id": "0149acac",
   "metadata": {},
   "outputs": [
    {
     "name": "stdout",
     "output_type": "stream",
     "text": [
      "[[1 2 3]\n",
      " [1 2 3]]\n",
      "<class 'numpy.ndarray'>\n"
     ]
    }
   ],
   "source": [
    "var1 = np.array([[1,2,3],[1,2,3]])\n",
    "\n",
    "print(var1)\n",
    "print(type(var1))"
   ]
  },
  {
   "cell_type": "code",
   "execution_count": 96,
   "id": "a0871a00",
   "metadata": {},
   "outputs": [
    {
     "name": "stdout",
     "output_type": "stream",
     "text": [
      "[[1 2 3]\n",
      " [1 2 3]]\n",
      "\n",
      "[[1 2 3]\n",
      " [1 2 3]]\n",
      "\n",
      "<class 'numpy.ndarray'>\n",
      "\n",
      "[[2 4 6]\n",
      " [2 4 6]]\n"
     ]
    }
   ],
   "source": [
    "var1 = np.array([[1,2,3],[1,2,3]])\n",
    "var2 = np.array([[1,2,3],[1,2,3]])\n",
    "\n",
    "print(var1)\n",
    "print()\n",
    "print(var2)\n",
    "print()\n",
    "print(type(var1))\n",
    "print()\n",
    "print(var1+var2)"
   ]
  },
  {
   "cell_type": "markdown",
   "id": "46839177",
   "metadata": {},
   "source": [
    "# Arithmetic Operation in Matrix"
   ]
  },
  {
   "cell_type": "code",
   "execution_count": 97,
   "id": "54b2d50d",
   "metadata": {},
   "outputs": [
    {
     "name": "stdout",
     "output_type": "stream",
     "text": [
      "[[1 2]\n",
      " [1 2]]\n",
      "\n",
      "<class 'numpy.matrix'>\n",
      "\n",
      "[[1 2]\n",
      " [1 2]]\n",
      "\n",
      "<class 'numpy.matrix'>\n",
      "\n",
      "[[3 6]\n",
      " [3 6]]\n",
      "\n",
      "[[3 6]\n",
      " [3 6]]\n"
     ]
    }
   ],
   "source": [
    "import numpy as np\n",
    "\n",
    "var = np.matrix([[1,2],[1,2]])\n",
    "var2 = np.matrix([[1,2],[1,2]])\n",
    "\n",
    "print(var)\n",
    "print()\n",
    "print(type(var))\n",
    "print()\n",
    "print(var2)\n",
    "print()\n",
    "print(type(var2))\n",
    "print()\n",
    "print(var*var2)\n",
    "print()\n",
    "print(var.dot(var2))"
   ]
  },
  {
   "cell_type": "code",
   "execution_count": 98,
   "id": "e302fa43",
   "metadata": {},
   "outputs": [
    {
     "name": "stdout",
     "output_type": "stream",
     "text": [
      "[[1 2 3]\n",
      " [1 2 3]]\n",
      "<class 'numpy.ndarray'>\n",
      "\n",
      "[[1 4 9]\n",
      " [1 4 9]]\n"
     ]
    }
   ],
   "source": [
    "var1 = np.array([[1,2,3],[1,2,3]])\n",
    "\n",
    "print(var1)\n",
    "print(type(var1))\n",
    "print()\n",
    "print(var1*var1)"
   ]
  },
  {
   "cell_type": "markdown",
   "id": "94505f6e",
   "metadata": {},
   "source": [
    "# Matrix Functions in NumPy Arrays"
   ]
  },
  {
   "cell_type": "markdown",
   "id": "e586ad32",
   "metadata": {},
   "source": [
    "1. Transpose\n",
    "2. Swapaxes\n",
    "3. Inverse\n",
    "4. Power\n",
    "5. Determinate"
   ]
  },
  {
   "cell_type": "markdown",
   "id": "f319fd72",
   "metadata": {},
   "source": [
    "***1. Transpose***"
   ]
  },
  {
   "cell_type": "code",
   "execution_count": 99,
   "id": "c14a471a",
   "metadata": {},
   "outputs": [
    {
     "name": "stdout",
     "output_type": "stream",
     "text": [
      "[[1 2 3]\n",
      " [4 5 6]]\n",
      "\n",
      "[[1 4]\n",
      " [2 5]\n",
      " [3 6]]\n",
      "\n",
      "[[1 4]\n",
      " [2 5]\n",
      " [3 6]]\n"
     ]
    }
   ],
   "source": [
    "import numpy as np\n",
    "\n",
    "var = np.matrix([[1,2,3],[4,5,6]])\n",
    "\n",
    "print(var)\n",
    "print()\n",
    "\n",
    "print(np.transpose(var))\n",
    "print()\n",
    "print(var.T)"
   ]
  },
  {
   "cell_type": "markdown",
   "id": "432c3e15",
   "metadata": {},
   "source": [
    "***2. Swapaxes***"
   ]
  },
  {
   "cell_type": "code",
   "execution_count": 100,
   "id": "6cd9c5ff",
   "metadata": {},
   "outputs": [
    {
     "name": "stdout",
     "output_type": "stream",
     "text": [
      "[[1 2]\n",
      " [3 4]]\n",
      "\n",
      "[[1 3]\n",
      " [2 4]]\n"
     ]
    }
   ],
   "source": [
    "var2 = np.matrix([[1,2],[3,4]])\n",
    "\n",
    "print(var2)\n",
    "print()\n",
    "print(np.swapaxes(var2,0,1))"
   ]
  },
  {
   "cell_type": "markdown",
   "id": "88970899",
   "metadata": {},
   "source": [
    "***3. Inverse***"
   ]
  },
  {
   "cell_type": "code",
   "execution_count": 101,
   "id": "27640f15",
   "metadata": {},
   "outputs": [
    {
     "name": "stdout",
     "output_type": "stream",
     "text": [
      "[[1 2]\n",
      " [3 4]]\n",
      "\n",
      "[[-2.   1. ]\n",
      " [ 1.5 -0.5]]\n"
     ]
    }
   ],
   "source": [
    "var3 = np.matrix([[1,2],[3,4]])\n",
    "\n",
    "print(var3)\n",
    "print()\n",
    "\n",
    "print(np.linalg.inv(var3))"
   ]
  },
  {
   "cell_type": "markdown",
   "id": "58fe8158",
   "metadata": {},
   "source": [
    "***4. Power***"
   ]
  },
  {
   "cell_type": "code",
   "execution_count": 102,
   "id": "fde16088",
   "metadata": {},
   "outputs": [
    {
     "name": "stdout",
     "output_type": "stream",
     "text": [
      "[[1 2]\n",
      " [3 4]]\n",
      "\n",
      "[[ 7 10]\n",
      " [15 22]]\n",
      "\n",
      "[[1 0]\n",
      " [0 1]]\n",
      "\n",
      "[[ 5.5  -2.5 ]\n",
      " [-3.75  1.75]]\n"
     ]
    }
   ],
   "source": [
    "var4 = np.matrix([[1,2],[3,4]])\n",
    "\n",
    "print(var4)\n",
    "print()\n",
    "\n",
    "print(np.linalg.matrix_power(var4,2))\n",
    "print()\n",
    "\n",
    "print(np.linalg.matrix_power(var4,0))\n",
    "print()\n",
    "\n",
    "print(np.linalg.matrix_power(var4,-2))"
   ]
  },
  {
   "cell_type": "markdown",
   "id": "40e8ea63",
   "metadata": {},
   "source": [
    "***5. Determinate***"
   ]
  },
  {
   "cell_type": "code",
   "execution_count": 103,
   "id": "7c2facf6",
   "metadata": {},
   "outputs": [
    {
     "name": "stdout",
     "output_type": "stream",
     "text": [
      "[[1 2]\n",
      " [3 4]]\n",
      "\n",
      "-2.0000000000000004\n"
     ]
    }
   ],
   "source": [
    "var5 = np.matrix([[1,2],[3,4]])\n",
    "\n",
    "print(var5)\n",
    "print()\n",
    "print(np.linalg.det(var5))"
   ]
  },
  {
   "cell_type": "code",
   "execution_count": 104,
   "id": "c1dbe186",
   "metadata": {},
   "outputs": [
    {
     "name": "stdout",
     "output_type": "stream",
     "text": [
      "[[1 2 3]\n",
      " [3 4 3]\n",
      " [1 2 3]]\n",
      "\n",
      "0.0\n"
     ]
    }
   ],
   "source": [
    "var5 = np.matrix([[1,2,3],[3,4,3],[1,2,3]])\n",
    "\n",
    "print(var5)\n",
    "print()\n",
    "print(np.linalg.det(var5))"
   ]
  },
  {
   "cell_type": "code",
   "execution_count": null,
   "id": "0070030b",
   "metadata": {},
   "outputs": [],
   "source": []
  }
 ],
 "metadata": {
  "kernelspec": {
   "display_name": "Python 3 (ipykernel)",
   "language": "python",
   "name": "python3"
  },
  "language_info": {
   "codemirror_mode": {
    "name": "ipython",
    "version": 3
   },
   "file_extension": ".py",
   "mimetype": "text/x-python",
   "name": "python",
   "nbconvert_exporter": "python",
   "pygments_lexer": "ipython3",
   "version": "3.11.5"
  }
 },
 "nbformat": 4,
 "nbformat_minor": 5
}
